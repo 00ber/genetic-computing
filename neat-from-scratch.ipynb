{
 "cells": [
  {
   "cell_type": "markdown",
   "id": "e9c536c2-d09a-4501-830c-459ca28653ee",
   "metadata": {},
   "source": [
    "Mutation in NEAT can change both connection weights and network structures.\n",
    "Connection weights mutate as in any NE system, with each connection either perturbed or not at each generation. Structural mutations occur in two ways (Figure 3).\n",
    "Each mutation expands the size of the genome by adding gene(s). In the add connection\n",
    "mutation, a single new connection gene with a random weight is added connecting\n",
    "two previously unconnected nodes. In the add node mutation, an existing connection is split and the new node placed where the old connection used to be. The old connection\n",
    "is disabled and two new connections are added to the genome. The new connection\n",
    "leading into the new node receives a weight of 1, and the new connection leading out\n",
    "receives the same weight as the old connection. This method of adding nodes was chosen in order to minimize the initial effect of the mutation. The new nonlinearity in the\n",
    "connection changes the function slightly, but new nodes can be immediately integrated\n",
    "into the network, as opposed to adding extraneous structure that would have to be\n",
    "evolved into the network later. This way, because of speciation, the network will have\n",
    "time to optimize and make use of its new structure.\n",
    "Through mutation, the genomes in NEAT will gradually get larger. Genomes of\n",
    "varying sizes will result, sometimes with different connections at the same positions.\n",
    "The most complex form of the competing conventions problem, with numerous differing topologies and weight combinations, is an inevitable result of allowing genomes to\n",
    "grow unbounded. How can NE cross over differently sized genomes in a sensible way?\n",
    "The next section explains how NEAT addresses this problem."
   ]
  },
  {
   "cell_type": "code",
   "execution_count": null,
   "id": "6eddd23c-b60d-4d20-9cad-48a7f5e9f119",
   "metadata": {},
   "outputs": [],
   "source": [
    "class NodeGene:\n",
    "    def __init__(self):\n",
    "        self.inputs = []\n",
    "        self.hidden_nodes = []\n",
    "        self.outputs = []\n",
    "\n",
    "class ConnectionGene:\n",
    "    def __init__(self):\n",
    "        self.in_node = None\n",
    "        self.out_node = None\n",
    "        self.weight = None\n",
    "        self.enabled = True\n",
    "        self.innovation_number = None\n",
    "\n",
    "class AddConnectionMutation:\n",
    "    \"\"\"In the add connection mutation, a single new connection gene with \n",
    "    a random weight is added connecting two previously unconnected nodes\"\"\"\n",
    "    \n",
    "\n",
    "class Genome:\n",
    "    def __init__(self):\n",
    "        self.node_genes = []\n",
    "        self.connection_genes = []\n",
    "\n",
    "    def add_connection_mutation(self):\n",
    "        \"\"\" In the add connection mutation, a single new connection gene with a \n",
    "        random weight is added connecting two previously unconnected nodes.\"\"\"\n",
    "        pass\n",
    "\n",
    "    def add_node_mutation(self):\n",
    "        \"\"\"In the add node mutation, an existing connection is split and the \n",
    "        new node placed where the old connection used to be. The old connection\n",
    "        is disabled and two new connections are added to the genome. The new connection\n",
    "        leading into the new node receives a weight of 1, and the new connection leading out\n",
    "        receives the same weight as the old connection. This method of adding nodes was \n",
    "        chosen in order to minimize the initial effect of the mutation. The new nonlinearity \n",
    "        in the connection changes the function slightly, but new nodes can be immediately \n",
    "        integrated into the network, as opposed to adding extraneous structure that would \n",
    "        have to be evolved into the network later. This way, because of speciation, the network \n",
    "        will have time to optimize and make use of its new structure.\n",
    "        \"\"\"\n",
    "        pass\n",
    "    "
   ]
  }
 ],
 "metadata": {
  "kernelspec": {
   "display_name": "Python 3 (ipykernel)",
   "language": "python",
   "name": "python3"
  },
  "language_info": {
   "codemirror_mode": {
    "name": "ipython",
    "version": 3
   },
   "file_extension": ".py",
   "mimetype": "text/x-python",
   "name": "python",
   "nbconvert_exporter": "python",
   "pygments_lexer": "ipython3",
   "version": "3.10.14"
  }
 },
 "nbformat": 4,
 "nbformat_minor": 5
}
